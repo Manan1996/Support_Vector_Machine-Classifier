{
 "cells": [
  {
   "cell_type": "code",
   "execution_count": 1,
   "metadata": {},
   "outputs": [
    {
     "name": "stderr",
     "output_type": "stream",
     "text": [
      "C:\\Users\\tilak\\Anaconda3\\lib\\site-packages\\sklearn\\cross_validation.py:44: DeprecationWarning: This module was deprecated in version 0.18 in favor of the model_selection module into which all the refactored classes and functions are moved. Also note that the interface of the new CV iterators are different from that of this module. This module will be removed in 0.20.\n",
      "  \"This module will be removed in 0.20.\", DeprecationWarning)\n"
     ]
    }
   ],
   "source": [
    "import numpy as np\n",
    "import pandas as pd\n",
    "from nltk.corpus import stopwords\n",
    "from sklearn.feature_extraction.text import TfidfVectorizer\n",
    "from sklearn.cross_validation import train_test_split\n",
    "from sklearn import naive_bayes\n",
    "from sklearn.metrics import accuracy_score\n",
    "from tkinter import *\n",
    "from sklearn import svm"
   ]
  },
  {
   "cell_type": "raw",
   "metadata": {},
   "source": [
    "read_csv() is used to create DataFreame\n",
    "read_csv(\"Provide Path to your training Data\",encoding=\"ISO-8859-1\")"
   ]
  },
  {
   "cell_type": "code",
   "execution_count": 4,
   "metadata": {},
   "outputs": [
    {
     "data": {
      "text/html": [
       "<div>\n",
       "<style>\n",
       "    .dataframe thead tr:only-child th {\n",
       "        text-align: right;\n",
       "    }\n",
       "\n",
       "    .dataframe thead th {\n",
       "        text-align: left;\n",
       "    }\n",
       "\n",
       "    .dataframe tbody tr th {\n",
       "        vertical-align: top;\n",
       "    }\n",
       "</style>\n",
       "<table border=\"1\" class=\"dataframe\">\n",
       "  <thead>\n",
       "    <tr style=\"text-align: right;\">\n",
       "      <th></th>\n",
       "      <th>Text</th>\n",
       "      <th>Sentiment</th>\n",
       "    </tr>\n",
       "  </thead>\n",
       "  <tbody>\n",
       "    <tr>\n",
       "      <th>0</th>\n",
       "      <td>the rock is destined to be the st centurys new...</td>\n",
       "      <td>1</td>\n",
       "    </tr>\n",
       "    <tr>\n",
       "      <th>1</th>\n",
       "      <td>the gorgeously elaborate continuation of  the ...</td>\n",
       "      <td>1</td>\n",
       "    </tr>\n",
       "    <tr>\n",
       "      <th>2</th>\n",
       "      <td>effective but tootepid biopic</td>\n",
       "      <td>1</td>\n",
       "    </tr>\n",
       "    <tr>\n",
       "      <th>3</th>\n",
       "      <td>if you sometimes like to go to the movies to h...</td>\n",
       "      <td>1</td>\n",
       "    </tr>\n",
       "    <tr>\n",
       "      <th>4</th>\n",
       "      <td>emerges as something rare   an issue movie tha...</td>\n",
       "      <td>1</td>\n",
       "    </tr>\n",
       "  </tbody>\n",
       "</table>\n",
       "</div>"
      ],
      "text/plain": [
       "                                                Text  Sentiment\n",
       "0  the rock is destined to be the st centurys new...          1\n",
       "1  the gorgeously elaborate continuation of  the ...          1\n",
       "2                      effective but tootepid biopic          1\n",
       "3  if you sometimes like to go to the movies to h...          1\n",
       "4  emerges as something rare   an issue movie tha...          1"
      ]
     },
     "execution_count": 4,
     "metadata": {},
     "output_type": "execute_result"
    }
   ],
   "source": [
    "Dataset=pd.read_csv(\"C:/Users/tilak/Desktop/Major/Data.csv\",encoding=\"ISO-8859-1\")\n",
    "#encodinng depends on your training data\n",
    "Dataset.head()\n",
    "\n"
   ]
  },
  {
   "cell_type": "code",
   "execution_count": 5,
   "metadata": {
    "scrolled": true
   },
   "outputs": [
    {
     "name": "stderr",
     "output_type": "stream",
     "text": [
      "C:\\Users\\tilak\\Anaconda3\\lib\\site-packages\\sklearn\\feature_extraction\\text.py:1059: FutureWarning: Conversion of the second argument of issubdtype from `float` to `np.floating` is deprecated. In future, it will be treated as `np.float64 == np.dtype(float).type`.\n",
      "  if hasattr(X, 'dtype') and np.issubdtype(X.dtype, np.float):\n"
     ]
    },
    {
     "data": {
      "text/plain": [
       "SVC(C=100.0, cache_size=200, class_weight=None, coef0=0.0,\n",
       "  decision_function_shape=None, degree=3, gamma='auto', kernel='linear',\n",
       "  max_iter=-1, probability=False, random_state=None, shrinking=True,\n",
       "  tol=0.001, verbose=False)"
      ]
     },
     "execution_count": 5,
     "metadata": {},
     "output_type": "execute_result"
    }
   ],
   "source": [
    "stopset = set(stopwords.words('english'))\n",
    "vectorizer = TfidfVectorizer(use_idf=True, lowercase=True,strip_accents='ascii', stop_words=stopset)\n",
    "\n",
    "X = vectorizer.fit_transform(Dataset.Text)\n",
    "Y = Dataset.Sentiment\n",
    "\n",
    "(X_train, X_test, Y_train, Y_test) = train_test_split(X, Y,random_state=42)\n",
    "\n",
    "clf = svm.SVC(C=100.0,kernel='linear') \n",
    "#Use kernel according to your need.If target class is more than one use other kernel than linear such as rbf etc.\n",
    "clf.fit(X_train,Y_train)\n"
   ]
  },
  {
   "cell_type": "code",
   "execution_count": 7,
   "metadata": {},
   "outputs": [
    {
     "name": "stdout",
     "output_type": "stream",
     "text": [
      "81.11490329920365\n"
     ]
    }
   ],
   "source": [
    "np.shape(Y_test)\n",
    "prediction=clf.predict(X_test)\n",
    "print(accuracy_score(Y_test,prediction)*100)"
   ]
  },
  {
   "cell_type": "code",
   "execution_count": 8,
   "metadata": {},
   "outputs": [
    {
     "name": "stderr",
     "output_type": "stream",
     "text": [
      "C:\\Users\\tilak\\Anaconda3\\lib\\site-packages\\sklearn\\feature_extraction\\text.py:1059: FutureWarning: Conversion of the second argument of issubdtype from `float` to `np.floating` is deprecated. In future, it will be treated as `np.float64 == np.dtype(float).type`.\n",
      "  if hasattr(X, 'dtype') and np.issubdtype(X.dtype, np.float):\n"
     ]
    },
    {
     "data": {
      "text/html": [
       "<div>\n",
       "<style>\n",
       "    .dataframe thead tr:only-child th {\n",
       "        text-align: right;\n",
       "    }\n",
       "\n",
       "    .dataframe thead th {\n",
       "        text-align: left;\n",
       "    }\n",
       "\n",
       "    .dataframe tbody tr th {\n",
       "        vertical-align: top;\n",
       "    }\n",
       "</style>\n",
       "<table border=\"1\" class=\"dataframe\">\n",
       "  <thead>\n",
       "    <tr style=\"text-align: right;\">\n",
       "      <th></th>\n",
       "      <th>Comment</th>\n",
       "      <th>ReplyCount</th>\n",
       "      <th>LikeCount</th>\n",
       "      <th>VideoID</th>\n",
       "      <th>Sentiment</th>\n",
       "    </tr>\n",
       "  </thead>\n",
       "  <tbody>\n",
       "    <tr>\n",
       "      <th>0</th>\n",
       "      <td>Thank you so much to everyone who has supporte...</td>\n",
       "      <td>18</td>\n",
       "      <td>228</td>\n",
       "      <td>YVfyYrEmzgM</td>\n",
       "      <td>1</td>\n",
       "    </tr>\n",
       "    <tr>\n",
       "      <th>1</th>\n",
       "      <td>Hilary remind me of\\nHi larry\\nAnd I saw lepit...</td>\n",
       "      <td>0</td>\n",
       "      <td>0</td>\n",
       "      <td>YVfyYrEmzgM</td>\n",
       "      <td>0</td>\n",
       "    </tr>\n",
       "    <tr>\n",
       "      <th>2</th>\n",
       "      <td>Representative stability ban goal fear huge to...</td>\n",
       "      <td>0</td>\n",
       "      <td>0</td>\n",
       "      <td>YVfyYrEmzgM</td>\n",
       "      <td>0</td>\n",
       "    </tr>\n",
       "    <tr>\n",
       "      <th>3</th>\n",
       "      <td>Make a video about what happened to the lost c...</td>\n",
       "      <td>0</td>\n",
       "      <td>0</td>\n",
       "      <td>YVfyYrEmzgM</td>\n",
       "      <td>0</td>\n",
       "    </tr>\n",
       "    <tr>\n",
       "      <th>4</th>\n",
       "      <td>Jesus christ that sandwich</td>\n",
       "      <td>0</td>\n",
       "      <td>0</td>\n",
       "      <td>YVfyYrEmzgM</td>\n",
       "      <td>0</td>\n",
       "    </tr>\n",
       "  </tbody>\n",
       "</table>\n",
       "</div>"
      ],
      "text/plain": [
       "                                             Comment  ReplyCount  LikeCount  \\\n",
       "0  Thank you so much to everyone who has supporte...          18        228   \n",
       "1  Hilary remind me of\\nHi larry\\nAnd I saw lepit...           0          0   \n",
       "2  Representative stability ban goal fear huge to...           0          0   \n",
       "3  Make a video about what happened to the lost c...           0          0   \n",
       "4                         Jesus christ that sandwich           0          0   \n",
       "\n",
       "       VideoID  Sentiment  \n",
       "0  YVfyYrEmzgM          1  \n",
       "1  YVfyYrEmzgM          0  \n",
       "2  YVfyYrEmzgM          0  \n",
       "3  YVfyYrEmzgM          0  \n",
       "4  YVfyYrEmzgM          0  "
      ]
     },
     "execution_count": 8,
     "metadata": {},
     "output_type": "execute_result"
    }
   ],
   "source": [
    "df_test = pd.read_csv(\"C:/Users/tilak/Desktop/Major/comments_.csv\",encoding='ISO-8859-1')\n",
    "#print(df_test.head())\n",
    "Test =df_test[['Comment']]\n",
    "#print(df_test.Comment)\n",
    "#print(Test.head())\n",
    "vector = vectorizer.transform(df_test.Comment)\n",
    "#print(vector)\n",
    "Predicted_result = clf.predict(vector)\n",
    "df_test[\"Sentiment\"] = pd.DataFrame({'Sentiment':Predicted_result})\n",
    "df_test.head() \n"
   ]
  }
 ],
 "metadata": {
  "kernelspec": {
   "display_name": "Python 3",
   "language": "python",
   "name": "python3"
  },
  "language_info": {
   "codemirror_mode": {
    "name": "ipython",
    "version": 3
   },
   "file_extension": ".py",
   "mimetype": "text/x-python",
   "name": "python",
   "nbconvert_exporter": "python",
   "pygments_lexer": "ipython3",
   "version": "3.6.1"
  }
 },
 "nbformat": 4,
 "nbformat_minor": 2
}
